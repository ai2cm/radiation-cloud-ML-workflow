{
 "cells": [
  {
   "cell_type": "markdown",
   "id": "secondary-soccer",
   "metadata": {},
   "source": [
    "### 2023-06-05 ccnorm schematic"
   ]
  },
  {
   "cell_type": "code",
   "execution_count": 1,
   "id": "passing-tuition",
   "metadata": {},
   "outputs": [],
   "source": [
    "from matplotlib import pyplot as plt"
   ]
  },
  {
   "cell_type": "code",
   "execution_count": 2,
   "id": "found-county",
   "metadata": {},
   "outputs": [],
   "source": [
    "plt.rcParams.update({'font.size': 8})\n",
    "condensate = 1e-6\n",
    "cloudy_fraction = 0.4\n",
    "OUTDIR = 'figures'"
   ]
  },
  {
   "cell_type": "code",
   "execution_count": 3,
   "id": "filled-prediction",
   "metadata": {},
   "outputs": [
    {
     "data": {
      "image/png": "[encoded data removed]",
      "text/plain": [
       "<Figure size 324x216 with 1 Axes>"
      ]
     },
     "metadata": {
      "needs_background": "light"
     },
     "output_type": "display_data"
    }
   ],
   "source": [
    "def cloud_color(condensate, scale=1e-5):\n",
    "    sat = 1 - condensate / scale\n",
    "    return (sat, sat, sat)\n",
    "     \n",
    "\n",
    "\n",
    "fig, ax = plt.subplots()\n",
    "ax.set_axis_off()\n",
    "ax.text(0.25, 0.9, 'a) ccnorm=True', ha='center')\n",
    "ax.add_patch(plt.Rectangle((0.025, 0.15), 0.45, (13/8)*0.45, edgecolor='k', facecolor='w'))\n",
    "ax.add_patch(\n",
    "    plt.Rectangle(\n",
    "        (0.04, 0.170),\n",
    "        0.42,\n",
    "        (13/8)*0.45*cloudy_fraction,\n",
    "        edgecolor='k',\n",
    "        facecolor=cloud_color(condensate / cloudy_fraction)\n",
    "    )\n",
    ")\n",
    "ax.text(0.75, 0.9, 'b) ccnorm=False', ha='center')\n",
    "ax.text(0.25, 0.7, f'gridcell-mean\\nmixing ratio={condensate:2.1e}', ha='center')\n",
    "ax.text(0.25, 0.37, f'cloud amount={cloudy_fraction:0.1f}', ha='center')\n",
    "ax.text(0.25, 0.22, f'in-cloud\\nmixing ratio={(condensate / cloudy_fraction):0.1e}', ha='center')\n",
    "ax.add_patch(\n",
    "    plt.Rectangle(\n",
    "        (0.525, 0.15),\n",
    "        0.45,\n",
    "        (13/8)*0.45,\n",
    "        edgecolor='k',\n",
    "        facecolor='w'\n",
    "    )\n",
    ")\n",
    "ax.add_patch(\n",
    "    plt.Rectangle(\n",
    "        (0.54, 0.170), 0.42, (13/8)*0.45*cloudy_fraction, edgecolor='k', ls='--', facecolor=cloud_color(condensate)\n",
    "    )\n",
    ")\n",
    "ax.text(0.75, 0.7, f'gridcell-mean\\nmixing ratio={condensate:2.1e}', ha='center')\n",
    "ax.text(0.75, 0.37, f'cloud amount={cloudy_fraction:0.1f}', ha='center')\n",
    "ax.text(0.75, 0.22, f'in-cloud\\nmixing ratio={condensate:0.1e}', ha='center')\n",
    "fig.set_size_inches([4.5, 3])\n",
    "# fig.set_dpi(100)\n",
    "fig.savefig(f\"./{OUTDIR}/ccnorm_schematic.eps\", bbox_inches='tight')"
   ]
  },
  {
   "cell_type": "code",
   "execution_count": null,
   "id": "listed-passenger",
   "metadata": {},
   "outputs": [],
   "source": []
  }
 ],
 "metadata": {
  "kernelspec": {
   "display_name": "fv3net",
   "language": "python",
   "name": "fv3net"
  },
  "language_info": {
   "codemirror_mode": {
    "name": "ipython",
    "version": 3
   },
   "file_extension": ".py",
   "mimetype": "text/x-python",
   "name": "python",
   "nbconvert_exporter": "python",
   "pygments_lexer": "ipython3",
   "version": "3.8.16"
  }
 },
 "nbformat": 4,
 "nbformat_minor": 5
}
